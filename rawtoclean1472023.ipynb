{
 "cells": [
  {
   "cell_type": "markdown",
   "id": "ceb80a05",
   "metadata": {},
   "source": [
    "# Raw data to clean date conversion"
   ]
  },
  {
   "cell_type": "markdown",
   "id": "1fc19027",
   "metadata": {},
   "source": [
    "### Method-1"
   ]
  },
  {
   "cell_type": "code",
   "execution_count": 1,
   "id": "196658b8",
   "metadata": {},
   "outputs": [],
   "source": [
    "import pandas as pd"
   ]
  },
  {
   "cell_type": "code",
   "execution_count": 2,
   "id": "917980ab",
   "metadata": {},
   "outputs": [],
   "source": [
    "data1=pd.read_excel(r\"C:\\Users\\HP\\OneDrive\\Desktop\\Dataset\\datacleaning task.xlsx\")"
   ]
  },
  {
   "cell_type": "code",
   "execution_count": 3,
   "id": "fcace487",
   "metadata": {},
   "outputs": [
    {
     "data": {
      "text/html": [
       "<div>\n",
       "<style scoped>\n",
       "    .dataframe tbody tr th:only-of-type {\n",
       "        vertical-align: middle;\n",
       "    }\n",
       "\n",
       "    .dataframe tbody tr th {\n",
       "        vertical-align: top;\n",
       "    }\n",
       "\n",
       "    .dataframe thead th {\n",
       "        text-align: right;\n",
       "    }\n",
       "</style>\n",
       "<table border=\"1\" class=\"dataframe\">\n",
       "  <thead>\n",
       "    <tr style=\"text-align: right;\">\n",
       "      <th></th>\n",
       "      <th>address</th>\n",
       "      <th>date</th>\n",
       "      <th>time</th>\n",
       "    </tr>\n",
       "  </thead>\n",
       "  <tbody>\n",
       "    <tr>\n",
       "      <th>0</th>\n",
       "      <td>56th,ben colony,btm layout,banglore, 78909</td>\n",
       "      <td>2022-04-03</td>\n",
       "      <td>05:55:23</td>\n",
       "    </tr>\n",
       "    <tr>\n",
       "      <th>1</th>\n",
       "      <td>20th, johns road, whitefield, banglore,567</td>\n",
       "      <td>2021-12-06</td>\n",
       "      <td>19:18:59</td>\n",
       "    </tr>\n",
       "  </tbody>\n",
       "</table>\n",
       "</div>"
      ],
      "text/plain": [
       "                                      address       date      time\n",
       "0  56th,ben colony,btm layout,banglore, 78909 2022-04-03  05:55:23\n",
       "1  20th, johns road, whitefield, banglore,567 2021-12-06  19:18:59"
      ]
     },
     "execution_count": 3,
     "metadata": {},
     "output_type": "execute_result"
    }
   ],
   "source": [
    "data1"
   ]
  },
  {
   "cell_type": "code",
   "execution_count": 4,
   "id": "3d09db6a",
   "metadata": {},
   "outputs": [
    {
     "data": {
      "text/html": [
       "<div>\n",
       "<style scoped>\n",
       "    .dataframe tbody tr th:only-of-type {\n",
       "        vertical-align: middle;\n",
       "    }\n",
       "\n",
       "    .dataframe tbody tr th {\n",
       "        vertical-align: top;\n",
       "    }\n",
       "\n",
       "    .dataframe thead th {\n",
       "        text-align: right;\n",
       "    }\n",
       "</style>\n",
       "<table border=\"1\" class=\"dataframe\">\n",
       "  <thead>\n",
       "    <tr style=\"text-align: right;\">\n",
       "      <th></th>\n",
       "      <th>address</th>\n",
       "      <th>date</th>\n",
       "      <th>time</th>\n",
       "      <th>door</th>\n",
       "      <th>street</th>\n",
       "      <th>colony</th>\n",
       "      <th>city</th>\n",
       "      <th>picode</th>\n",
       "      <th>yr</th>\n",
       "      <th>mth</th>\n",
       "      <th>day</th>\n",
       "      <th>hr</th>\n",
       "      <th>min</th>\n",
       "      <th>sec</th>\n",
       "    </tr>\n",
       "  </thead>\n",
       "  <tbody>\n",
       "    <tr>\n",
       "      <th>0</th>\n",
       "      <td>56th,ben colony,btm layout,banglore, 78909</td>\n",
       "      <td>2022-04-03</td>\n",
       "      <td>05:55:23</td>\n",
       "      <td>56th</td>\n",
       "      <td>ben colony</td>\n",
       "      <td>btm layout</td>\n",
       "      <td>banglore</td>\n",
       "      <td>78909</td>\n",
       "      <td>2022</td>\n",
       "      <td>04</td>\n",
       "      <td>03</td>\n",
       "      <td>05</td>\n",
       "      <td>55</td>\n",
       "      <td>23</td>\n",
       "    </tr>\n",
       "    <tr>\n",
       "      <th>1</th>\n",
       "      <td>20th, johns road, whitefield, banglore,567</td>\n",
       "      <td>2021-12-06</td>\n",
       "      <td>19:18:59</td>\n",
       "      <td>20th</td>\n",
       "      <td>johns road</td>\n",
       "      <td>whitefield</td>\n",
       "      <td>banglore</td>\n",
       "      <td>567</td>\n",
       "      <td>2021</td>\n",
       "      <td>12</td>\n",
       "      <td>06</td>\n",
       "      <td>19</td>\n",
       "      <td>18</td>\n",
       "      <td>59</td>\n",
       "    </tr>\n",
       "  </tbody>\n",
       "</table>\n",
       "</div>"
      ],
      "text/plain": [
       "                                      address        date      time  door  \\\n",
       "0  56th,ben colony,btm layout,banglore, 78909  2022-04-03  05:55:23  56th   \n",
       "1  20th, johns road, whitefield, banglore,567  2021-12-06  19:18:59  20th   \n",
       "\n",
       "        street       colony       city  picode    yr mth day  hr min sec  \n",
       "0   ben colony   btm layout   banglore   78909  2022  04  03  05  55  23  \n",
       "1   johns road   whitefield   banglore     567  2021  12  06  19  18  59  "
      ]
     },
     "execution_count": 4,
     "metadata": {},
     "output_type": "execute_result"
    }
   ],
   "source": [
    "data1[[\"door\",\"street\",\"colony\",\"city\",\"picode\"]]=data1[\"address\"].str.split(',',expand=True)\n",
    "data1[\"date\"]=data1[\"date\"].astype('str')\n",
    "data1[[\"yr\",\"mth\",\"day\"]]=data1[\"date\"].str.split('-',expand=True)\n",
    "data1[\"time\"]=data1[\"time\"].astype('str')\n",
    "data1[[\"hr\",\"min\",\"sec\"]]=data1[\"time\"].str.split(':',expand=True)\n",
    "data1"
   ]
  },
  {
   "cell_type": "markdown",
   "id": "ef8b3c05",
   "metadata": {},
   "source": [
    "### Method 2"
   ]
  },
  {
   "cell_type": "code",
   "execution_count": 5,
   "id": "ae9bba63",
   "metadata": {},
   "outputs": [],
   "source": [
    "data=pd.read_excel(r\"C:\\Users\\HP\\OneDrive\\Desktop\\Dataset\\raw.xlsx\")"
   ]
  },
  {
   "cell_type": "code",
   "execution_count": 6,
   "id": "2f41bf27",
   "metadata": {},
   "outputs": [
    {
     "data": {
      "text/html": [
       "<div>\n",
       "<style scoped>\n",
       "    .dataframe tbody tr th:only-of-type {\n",
       "        vertical-align: middle;\n",
       "    }\n",
       "\n",
       "    .dataframe tbody tr th {\n",
       "        vertical-align: top;\n",
       "    }\n",
       "\n",
       "    .dataframe thead th {\n",
       "        text-align: right;\n",
       "    }\n",
       "</style>\n",
       "<table border=\"1\" class=\"dataframe\">\n",
       "  <thead>\n",
       "    <tr style=\"text-align: right;\">\n",
       "      <th></th>\n",
       "      <th>address</th>\n",
       "      <th>date</th>\n",
       "      <th>time</th>\n",
       "    </tr>\n",
       "  </thead>\n",
       "  <tbody>\n",
       "    <tr>\n",
       "      <th>0</th>\n",
       "      <td>56th,ben colony,btm layout,banglore, 78909</td>\n",
       "      <td>3rd apr 2022</td>\n",
       "      <td>05hr 55min 23sec</td>\n",
       "    </tr>\n",
       "    <tr>\n",
       "      <th>1</th>\n",
       "      <td>20th, johns road, whitefield, banglore,567</td>\n",
       "      <td>06th dec 2021</td>\n",
       "      <td>19hr 18min 59sec</td>\n",
       "    </tr>\n",
       "  </tbody>\n",
       "</table>\n",
       "</div>"
      ],
      "text/plain": [
       "                                      address           date              time\n",
       "0  56th,ben colony,btm layout,banglore, 78909   3rd apr 2022  05hr 55min 23sec\n",
       "1  20th, johns road, whitefield, banglore,567  06th dec 2021  19hr 18min 59sec"
      ]
     },
     "execution_count": 6,
     "metadata": {},
     "output_type": "execute_result"
    }
   ],
   "source": [
    "data"
   ]
  },
  {
   "cell_type": "code",
   "execution_count": 7,
   "id": "9be29ad1",
   "metadata": {},
   "outputs": [
    {
     "data": {
      "text/html": [
       "<div>\n",
       "<style scoped>\n",
       "    .dataframe tbody tr th:only-of-type {\n",
       "        vertical-align: middle;\n",
       "    }\n",
       "\n",
       "    .dataframe tbody tr th {\n",
       "        vertical-align: top;\n",
       "    }\n",
       "\n",
       "    .dataframe thead th {\n",
       "        text-align: right;\n",
       "    }\n",
       "</style>\n",
       "<table border=\"1\" class=\"dataframe\">\n",
       "  <thead>\n",
       "    <tr style=\"text-align: right;\">\n",
       "      <th></th>\n",
       "      <th>address</th>\n",
       "      <th>date</th>\n",
       "      <th>time</th>\n",
       "      <th>door</th>\n",
       "      <th>street</th>\n",
       "      <th>colony</th>\n",
       "      <th>city</th>\n",
       "      <th>picode</th>\n",
       "      <th>yr</th>\n",
       "      <th>mth</th>\n",
       "      <th>day</th>\n",
       "      <th>hr</th>\n",
       "      <th>min</th>\n",
       "      <th>sec</th>\n",
       "    </tr>\n",
       "  </thead>\n",
       "  <tbody>\n",
       "    <tr>\n",
       "      <th>0</th>\n",
       "      <td>56th,ben colony,btm layout,banglore, 78909</td>\n",
       "      <td>3rd apr 2022</td>\n",
       "      <td>05hr 55min 23sec</td>\n",
       "      <td>56th</td>\n",
       "      <td>ben colony</td>\n",
       "      <td>btm layout</td>\n",
       "      <td>banglore</td>\n",
       "      <td>78909</td>\n",
       "      <td>3rd</td>\n",
       "      <td>apr</td>\n",
       "      <td>2022</td>\n",
       "      <td>05hr</td>\n",
       "      <td>55min</td>\n",
       "      <td>23sec</td>\n",
       "    </tr>\n",
       "    <tr>\n",
       "      <th>1</th>\n",
       "      <td>20th, johns road, whitefield, banglore,567</td>\n",
       "      <td>06th dec 2021</td>\n",
       "      <td>19hr 18min 59sec</td>\n",
       "      <td>20th</td>\n",
       "      <td>johns road</td>\n",
       "      <td>whitefield</td>\n",
       "      <td>banglore</td>\n",
       "      <td>567</td>\n",
       "      <td>06th</td>\n",
       "      <td>dec</td>\n",
       "      <td>2021</td>\n",
       "      <td>19hr</td>\n",
       "      <td>18min</td>\n",
       "      <td>59sec</td>\n",
       "    </tr>\n",
       "  </tbody>\n",
       "</table>\n",
       "</div>"
      ],
      "text/plain": [
       "                                      address           date  \\\n",
       "0  56th,ben colony,btm layout,banglore, 78909   3rd apr 2022   \n",
       "1  20th, johns road, whitefield, banglore,567  06th dec 2021   \n",
       "\n",
       "               time  door       street       colony       city  picode    yr  \\\n",
       "0  05hr 55min 23sec  56th   ben colony   btm layout   banglore   78909   3rd   \n",
       "1  19hr 18min 59sec  20th   johns road   whitefield   banglore     567  06th   \n",
       "\n",
       "   mth   day    hr    min    sec  \n",
       "0  apr  2022  05hr  55min  23sec  \n",
       "1  dec  2021  19hr  18min  59sec  "
      ]
     },
     "execution_count": 7,
     "metadata": {},
     "output_type": "execute_result"
    }
   ],
   "source": [
    "data[[\"door\",\"street\",\"colony\",\"city\",\"picode\"]]=data[\"address\"].str.split(',',expand=True)\n",
    "data[[\"yr\",\"mth\",\"day\"]]=data[\"date\"].str.split(expand=True)\n",
    "data[[\"hr\",\"min\",\"sec\"]]=data[\"time\"].str.split(expand=True)\n",
    "data\n"
   ]
  },
  {
   "cell_type": "code",
   "execution_count": null,
   "id": "f70a981b",
   "metadata": {},
   "outputs": [],
   "source": []
  }
 ],
 "metadata": {
  "kernelspec": {
   "display_name": "Python 3 (ipykernel)",
   "language": "python",
   "name": "python3"
  },
  "language_info": {
   "codemirror_mode": {
    "name": "ipython",
    "version": 3
   },
   "file_extension": ".py",
   "mimetype": "text/x-python",
   "name": "python",
   "nbconvert_exporter": "python",
   "pygments_lexer": "ipython3",
   "version": "3.9.13"
  }
 },
 "nbformat": 4,
 "nbformat_minor": 5
}
